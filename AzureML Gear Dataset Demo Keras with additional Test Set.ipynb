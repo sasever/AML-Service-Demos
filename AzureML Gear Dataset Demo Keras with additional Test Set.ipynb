{
 "cells": [
  {
   "cell_type": "code",
   "execution_count": null,
   "metadata": {},
   "outputs": [],
   "source": [
    "#required packages:\n",
    "!pip install --upgrade azureml-sdk[notebooks,automl]\n",
    "!pip install sklearn\n",
    "!pip install matplotlib\n",
    "!pip install tensorflow\n",
    "!pip install keras\n",
    "!pip install pillow"
   ]
  },
  {
   "cell_type": "code",
   "execution_count": 1,
   "metadata": {},
   "outputs": [],
   "source": [
    "from azureml.core import Workspace"
   ]
  },
  {
   "cell_type": "markdown",
   "metadata": {},
   "source": [
    "Creating the workspace, if exists just connecting."
   ]
  },
  {
   "cell_type": "code",
   "execution_count": 2,
   "metadata": {},
   "outputs": [
    {
     "data": {
      "text/plain": [
       "{'id': '/subscriptions/757c4165-0823-49f7-9678-5a85fe5e17cc/resourceGroups/MLWSR/providers/Microsoft.MachineLearningServices/workspaces/demows',\n",
       " 'name': 'demows',\n",
       " 'location': 'westeurope',\n",
       " 'type': 'Microsoft.MachineLearningServices/workspaces',\n",
       " 'workspaceid': 'a701d726-5e1d-4549-9651-144a060112f9',\n",
       " 'description': '',\n",
       " 'friendlyName': 'demows',\n",
       " 'creationTime': '2019-01-31T10:30:31.7037564+00:00',\n",
       " 'containerRegistry': '/subscriptions/757c4165-0823-49f7-9678-5a85fe5e17cc/resourcegroups/mlwsr/providers/microsoft.containerregistry/registries/demowsacrqwcafahe',\n",
       " 'keyVault': '/subscriptions/757c4165-0823-49f7-9678-5a85fe5e17cc/resourcegroups/mlwsr/providers/microsoft.keyvault/vaults/demowskeyvaultfehonicp',\n",
       " 'applicationInsights': '/subscriptions/757c4165-0823-49f7-9678-5a85fe5e17cc/resourcegroups/mlwsr/providers/microsoft.insights/components/demowsinsightsvvfgwaet',\n",
       " 'identityPrincipalId': '8b68ecb1-62b5-4ebb-8a55-86ef8cdefa26',\n",
       " 'identityTenantId': '72f988bf-86f1-41af-91ab-2d7cd011db47',\n",
       " 'identityType': 'SystemAssigned',\n",
       " 'storageAccount': '/subscriptions/757c4165-0823-49f7-9678-5a85fe5e17cc/resourcegroups/mlwsr/providers/microsoft.storage/storageaccounts/demowsstoragetrqwplur'}"
      ]
     },
     "execution_count": 2,
     "metadata": {},
     "output_type": "execute_result"
    }
   ],
   "source": [
    "\n",
    "ws = Workspace.create(name='demows',\n",
    "                      subscription_id='Your Subscription ID',    \n",
    "                      resource_group='MLWSR',\n",
    "                      create_resource_group=True,\n",
    "                      location='westeurope', # or other supported Azure region  \n",
    "                       exist_ok = True)\n",
    "\n",
    "# see workspace details\n",
    "ws.get_details()\n"
   ]
  },
  {
   "cell_type": "markdown",
   "metadata": {},
   "source": [
    "Conencting to an existing one"
   ]
  },
  {
   "cell_type": "code",
   "execution_count": null,
   "metadata": {},
   "outputs": [],
   "source": [
    "ws = Workspace(subscription_id='757c4165-0823-49f7-9678-5a85fe5e17cc', \n",
    "               resource_group='MLWSR', \n",
    "               workspace_name='demows', \n",
    "               auth=None, \n",
    "               _location='westeurope',\n",
    "               _disable_service_check=False)\n",
    "\n"
   ]
  },
  {
   "cell_type": "code",
   "execution_count": 3,
   "metadata": {},
   "outputs": [
    {
     "data": {
      "text/plain": [
       "{'id': '/subscriptions/757c4165-0823-49f7-9678-5a85fe5e17cc/resourceGroups/MLWSR/providers/Microsoft.MachineLearningServices/workspaces/demows',\n",
       " 'name': 'demows',\n",
       " 'location': 'westeurope',\n",
       " 'type': 'Microsoft.MachineLearningServices/workspaces',\n",
       " 'workspaceid': 'a701d726-5e1d-4549-9651-144a060112f9',\n",
       " 'description': '',\n",
       " 'friendlyName': 'demows',\n",
       " 'creationTime': '2019-01-31T10:30:31.7037564+00:00',\n",
       " 'containerRegistry': '/subscriptions/757c4165-0823-49f7-9678-5a85fe5e17cc/resourcegroups/mlwsr/providers/microsoft.containerregistry/registries/demowsacrqwcafahe',\n",
       " 'keyVault': '/subscriptions/757c4165-0823-49f7-9678-5a85fe5e17cc/resourcegroups/mlwsr/providers/microsoft.keyvault/vaults/demowskeyvaultfehonicp',\n",
       " 'applicationInsights': '/subscriptions/757c4165-0823-49f7-9678-5a85fe5e17cc/resourcegroups/mlwsr/providers/microsoft.insights/components/demowsinsightsvvfgwaet',\n",
       " 'identityPrincipalId': '8b68ecb1-62b5-4ebb-8a55-86ef8cdefa26',\n",
       " 'identityTenantId': '72f988bf-86f1-41af-91ab-2d7cd011db47',\n",
       " 'identityType': 'SystemAssigned',\n",
       " 'storageAccount': '/subscriptions/757c4165-0823-49f7-9678-5a85fe5e17cc/resourcegroups/mlwsr/providers/microsoft.storage/storageaccounts/demowsstoragetrqwplur'}"
      ]
     },
     "execution_count": 3,
     "metadata": {},
     "output_type": "execute_result"
    }
   ],
   "source": [
    "# see workspace details\n",
    "ws.get_details()"
   ]
  },
  {
   "cell_type": "code",
   "execution_count": 4,
   "metadata": {},
   "outputs": [
    {
     "name": "stdout",
     "output_type": "stream",
     "text": [
      "demows\twesteurope\tMLWSR\n"
     ]
    }
   ],
   "source": [
    "print(ws.name, ws.location, ws.resource_group, sep = '\\t')"
   ]
  },
  {
   "cell_type": "markdown",
   "metadata": {},
   "source": [
    "Create the experiment"
   ]
  },
  {
   "cell_type": "code",
   "execution_count": 5,
   "metadata": {},
   "outputs": [],
   "source": [
    "from azureml.core import Experiment"
   ]
  },
  {
   "cell_type": "code",
   "execution_count": 6,
   "metadata": {},
   "outputs": [],
   "source": [
    "experiment_name = 'GEAR-EXP'\n",
    "exp = Experiment(workspace=ws, name=experiment_name)"
   ]
  },
  {
   "cell_type": "markdown",
   "metadata": {},
   "source": [
    "Create new Azure ML Compute Target Cluster"
   ]
  },
  {
   "cell_type": "code",
   "execution_count": 7,
   "metadata": {},
   "outputs": [],
   "source": [
    "from azureml.core.compute import ComputeTarget, AmlCompute\n",
    "from azureml.core.compute_target import ComputeTargetException"
   ]
  },
  {
   "cell_type": "code",
   "execution_count": 8,
   "metadata": {},
   "outputs": [
    {
     "name": "stdout",
     "output_type": "stream",
     "text": [
      "Creating\n",
      "Succeeded..............\n",
      "AmlCompute wait for completion finished\n",
      "Minimum number of nodes requested have been provisioned\n",
      "Wall time: 2min 12s\n"
     ]
    }
   ],
   "source": [
    "%%time\n",
    "# Choose a name for your CPU cluster\n",
    "cluster_name = \"gpucluster\"\n",
    "\n",
    "# Verify that the cluster doesn't already exist \n",
    "try:\n",
    "    aml_cluster = ComputeTarget(workspace=ws, name=cluster_name)\n",
    "    print('Found existing cluster, use it.')\n",
    "except ComputeTargetException:\n",
    "    print('NO existing cluster found, provisioning a new one.')\n",
    "    compute_config = AmlCompute.provisioning_configuration(vm_size='STANDARD_NC6',\n",
    "                                                           vm_priority='lowpriority',\n",
    "                                                           min_nodes=1,\n",
    "                                                           max_nodes=4,\n",
    "                                                           idle_seconds_before_scaledown='300'#,\n",
    "                                                          # vnet_resourcegroup_name='<my-resource-group>',\n",
    "                                                          # vnet_name='<my-vnet-name>',\n",
    "                                                          # subnet_name='<my-subnet-name>'\n",
    "                                                          )\n",
    "    aml_cluster = ComputeTarget.create(ws, cluster_name, compute_config)\n",
    "\n",
    "aml_cluster.wait_for_completion(show_output=True)\n"
   ]
  },
  {
   "cell_type": "code",
   "execution_count": 9,
   "metadata": {},
   "outputs": [],
   "source": [
    "import urllib.request\n",
    "import os"
   ]
  },
  {
   "cell_type": "markdown",
   "metadata": {},
   "source": [
    "Manually download the data under gear and gear test folders and save with the same structure with the repository"
   ]
  },
  {
   "cell_type": "code",
   "execution_count": 10,
   "metadata": {},
   "outputs": [
    {
     "data": {
      "text/plain": [
       "['thumbnail.zip']"
      ]
     },
     "execution_count": 10,
     "metadata": {},
     "output_type": "execute_result"
    }
   ],
   "source": [
    "os.listdir('./gear')"
   ]
  },
  {
   "cell_type": "markdown",
   "metadata": {},
   "source": [
    "Get the default datastore info of the Compute Target and load the data to continue working on the cluster"
   ]
  },
  {
   "cell_type": "code",
   "execution_count": 11,
   "metadata": {
    "scrolled": true
   },
   "outputs": [
    {
     "name": "stdout",
     "output_type": "stream",
     "text": [
      "AzureBlob demowsstoragetrqwplur azureml-blobstore-a701d726-5e1d-4549-9651-144a060112f9\n",
      "Uploading ./gear\\thumbnail.zip\n",
      "Uploaded ./gear\\thumbnail.zip, 1 files out of an estimated total of 1\n"
     ]
    },
    {
     "data": {
      "text/plain": [
       "$AZUREML_DATAREFERENCE_374d07fe6b6d486a8c58bc308adf334b"
      ]
     },
     "execution_count": 11,
     "metadata": {},
     "output_type": "execute_result"
    }
   ],
   "source": [
    "ds = ws.get_default_datastore()\n",
    "print(ds.datastore_type, ds.account_name, ds.container_name) \n",
    "\n",
    "ds.upload(src_dir='./gear', target_path='gear', overwrite=True, show_progress=True)\n"
   ]
  },
  {
   "cell_type": "code",
   "execution_count": 12,
   "metadata": {},
   "outputs": [],
   "source": [
    "import urllib.request\n",
    "import os"
   ]
  },
  {
   "cell_type": "markdown",
   "metadata": {},
   "source": [
    "To showcase the results I will extract& load the test images that i collected from net and preprocessed to fit the sizing and type requirements to local enviroment"
   ]
  },
  {
   "cell_type": "code",
   "execution_count": 13,
   "metadata": {},
   "outputs": [
    {
     "name": "stdout",
     "output_type": "stream",
     "text": [
      "Current working directory is  C:\\Users\\sasever\\Desktop\\SelfLearning\\AzureML\\AML KEras Demo\\geartest\\test\\acthumbnail\n",
      "12  classess exist\n",
      "Classes are : ['axes', 'boots', 'carabiners', 'crampons', 'gloves', 'hardshell_jackets', 'harnesses', 'helmets', 'insulated_jackets', 'pulleys', 'rope', 'tents']\n",
      "91  images read into array\n",
      "Wall time: 64 ms\n"
     ]
    }
   ],
   "source": [
    "%%time\n",
    "import glob\n",
    "import numpy as np\n",
    "from  PIL import Image\n",
    "import matplotlib.pyplot as plt\n",
    "\n",
    "imagesTestX=[]\n",
    "imagesTestY=[]\n",
    "\n",
    "# load train and test set into numpy arrays\n",
    "size = 128, 128\n",
    "ultimatepath = os.path.join(os.path.abspath(os.path.curdir),'geartest','test','acthumbnail')\n",
    "print(\"Current working directory is \", ultimatepath)\n",
    "\n",
    "folders = sorted(os.listdir(ultimatepath))               \n",
    "\n",
    "num_classes=len(folders)\n",
    "print(num_classes,' classess exist')\n",
    "\n",
    "print('Classes are :', folders)\n",
    "\n",
    "for folder in folders: \n",
    "    sourcepath=os.path.join(ultimatepath, folder)\n",
    "    #scan through images and create tumbnails\n",
    "    for infile in glob.glob(os.path.join(sourcepath,\"*.*\")):\n",
    "        img=plt.imread(infile)\n",
    "        #append the images to the dataset X as  images (inputset)\n",
    "        imagesTestX.append(img)\n",
    "        #append image class to the dataset Y\n",
    "        imagesTestY.append(folder)\n",
    "\n",
    "\n",
    "imagesTestX=np.asarray(imagesTestX)\n",
    "imagesTestY=np.asarray(imagesTestY)\n",
    "\n",
    "num_items=len(imagesTestY)\n",
    "print(num_items,' images read into array')"
   ]
  },
  {
   "cell_type": "markdown",
   "metadata": {},
   "source": [
    "Create required scripts for training and scoring, also add the additional manual libraries if any exists"
   ]
  },
  {
   "cell_type": "code",
   "execution_count": 16,
   "metadata": {},
   "outputs": [],
   "source": [
    "script_folder = './gearscript' \n",
    "os.makedirs(script_folder, exist_ok=True)"
   ]
  },
  {
   "cell_type": "code",
   "execution_count": 17,
   "metadata": {},
   "outputs": [
    {
     "data": {
      "text/plain": [
       "['.amlignore', 'aml_config', 'assets', 'train.py']"
      ]
     },
     "execution_count": 17,
     "metadata": {},
     "output_type": "execute_result"
    }
   ],
   "source": [
    "os.listdir(script_folder)"
   ]
  },
  {
   "cell_type": "code",
   "execution_count": 24,
   "metadata": {},
   "outputs": [
    {
     "name": "stdout",
     "output_type": "stream",
     "text": [
      "Overwriting ./gearscript/train.py\n"
     ]
    }
   ],
   "source": [
    "%%writefile $script_folder/train.py\n",
    "\n",
    "import argparse\n",
    "from  PIL import Image\n",
    "import glob, os\n",
    "from os import listdir,path\n",
    "import numpy as np\n",
    "import zipfile\n",
    "import matplotlib.pyplot as plt\n",
    "\n",
    "from sklearn.model_selection import train_test_split\n",
    "from sklearn.preprocessing import OneHotEncoder\n",
    "#from __future__ import print_function\n",
    "import keras\n",
    "from keras.models import Sequential\n",
    "\n",
    "from keras.layers import Dense, Dropout, Flatten, Conv2D, MaxPooling2D \n",
    "from keras import backend as K\n",
    "#from keras.utils import to_categorical #for OneHotEncoding\n",
    "from keras.callbacks import EarlyStopping\n",
    "\n",
    "from azureml.core import Run\n",
    "\n",
    "# let user feed in 2 parameters, the location of the data files (from datastore), and the regularization rate of the logistic regression model\n",
    "parser = argparse.ArgumentParser()\n",
    "parser.add_argument('--data-folder', type=str, dest='data_folder', help='data folder mounting point')\n",
    "parser.add_argument('--regularization', type=float, dest='reg', default=0.01, help='regularization rate')\n",
    "args = parser.parse_args()\n",
    "\n",
    "zip_folder = os.path.join(args.data_folder, 'gear')\n",
    "data_folder = os.path.join(zip_folder, 'thumbnail')\n",
    "print('zip folder:', zip_folder)\n",
    "\n",
    "#unzip source data\n",
    "with zipfile.ZipFile(os.path.join(zip_folder, 'thumbnail.zip'), 'r') as zip_ref:\n",
    "    zip_ref.extractall(zip_folder)\n",
    "    \n",
    "folders=os.listdir(data_folder)\n",
    "\n",
    "num_classes=len(folders)\n",
    "print(num_classes,' directories unzipped')\n",
    "imagesX=[]\n",
    "imagesY=[]\n",
    "\n",
    "# load train and test set into numpy arrays\n",
    "size = 128, 128\n",
    "\n",
    "for folder in folders: \n",
    "    sourcepath=os.path.join(data_folder, folder)\n",
    "    #print(folder)\n",
    "    #scan through images and create tumbnails\n",
    "    for infile in glob.glob(os.path.join(sourcepath,\"*.*\")):\n",
    "        img=plt.imread(infile)\n",
    "        #append the images to the dataset X as  images (inputset)\n",
    "        imagesX.append(img)\n",
    "        #append image class to the dataset Y\n",
    "        imagesY.append(folder)\n",
    "        #print(img.shape)\n",
    "\n",
    "imagesX=np.asarray(imagesX)\n",
    "imagesY=np.asarray(imagesY)\n",
    "\n",
    "num_items=len(imagesY)\n",
    "print(num_items,' images read into array')\n",
    "\n",
    "imagesY=imagesY.reshape(-1, 1)\n",
    "onehot_encoder = OneHotEncoder(sparse=False)\n",
    "imagesYohe = onehot_encoder.fit_transform(imagesY)\n",
    "\n",
    "if K.image_data_format()=='channels_first':\n",
    "    imagesX=imagesX.reshape(imagesX.shape[0],3,size[0],size[1])\n",
    "    input_shape=(3,size[0],size[1])\n",
    "else:\n",
    "    imagesX=imagesX.reshape(imagesX.shape[0],size[0],size[1],3)\n",
    "    input_shape=(size[0],size[1],3)\n",
    "\n",
    "imXtrain,imXtest,imYtrain,imYtest=train_test_split(imagesX.astype('float32')/255,imagesYohe,test_size=0.1,random_state=12)\n",
    "\n",
    "\n",
    "batch_size=128\n",
    "epochs=32\n",
    "\n",
    "# get hold of the current run\n",
    "run = Run.get_context()\n",
    "\n",
    "print('Build a CNN with KERAS')\n",
    "model=Sequential()\n",
    "model.add(Conv2D(64,kernel_size=(3,3),activation='relu',input_shape=input_shape))\n",
    "model.add(MaxPooling2D(pool_size=(2,2)))\n",
    "model.add(Conv2D(64,kernel_size=(3,3),activation='relu'))\n",
    "model.add(MaxPooling2D(pool_size=(2,2)))\n",
    "###\n",
    "model.add(Flatten())\n",
    "###\n",
    "model.add(Dense(128,activation='relu'))\n",
    "model.add(Dropout(0.5))\n",
    "model.add(Dense(num_classes,activation='sigmoid'))\n",
    "\n",
    "model.compile(optimizer='adam',#prev:'Adadelta',\n",
    "              loss='categorical_crossentropy',\n",
    "              metrics=['accuracy'])\n",
    "\n",
    "\n",
    "fit_callbacks=[EarlyStopping(monitor='acc',patience=5,mode=max)]\n",
    "\n",
    "print('Run the CNN')\n",
    "hist=model.fit(imXtrain,imYtrain,\n",
    "               batch_size=batch_size,\n",
    "               epochs=epochs,\n",
    "               verbose=1,\n",
    "               callbacks=fit_callbacks,\n",
    "               validation_data=(imXtest,imYtest))\n",
    "\n",
    "\n",
    "print('Predict the test set')\n",
    "score=model.evaluate(imXtest,imYtest,verbose=0)\n",
    "\n",
    "# calculate accuracy on the prediction\n",
    "run.log('Test loss', np.float(score[0]))\n",
    "run.log('Test accuracy', np.float(score[1]))\n",
    "\n",
    "os.makedirs('outputs', exist_ok=True)\n",
    "# note file saved in the outputs folder is automatically uploaded into experiment record\n",
    "model.save('outputs/Gear_Keras.model')"
   ]
  },
  {
   "cell_type": "markdown",
   "metadata": {},
   "source": [
    "Create the estimator for running the training job"
   ]
  },
  {
   "cell_type": "code",
   "execution_count": 25,
   "metadata": {},
   "outputs": [],
   "source": [
    "from azureml.train.estimator import Estimator \n",
    "\n",
    "script_params = { '--data-folder': ds.as_mount(), '--regularization': 0.8 }\n",
    " \n",
    "est = Estimator(source_directory=script_folder, \n",
    "                script_params=script_params, \n",
    "                compute_target=aml_cluster, \n",
    "                entry_script='train.py', \n",
    "                conda_packages=['tensorflow','keras','pillow','scikit-learn','matplotlib'])"
   ]
  },
  {
   "cell_type": "markdown",
   "metadata": {},
   "source": [
    "Submit the experiment run "
   ]
  },
  {
   "cell_type": "code",
   "execution_count": 26,
   "metadata": {},
   "outputs": [
    {
     "data": {
      "text/html": [
       "<table style=\"width:100%\"><tr><th>Experiment</th><th>Id</th><th>Type</th><th>Status</th><th>Details Page</th><th>Docs Page</th></tr><tr><td>GEAR-EXP</td><td>GEAR-EXP_1548933437886</td><td>azureml.scriptrun</td><td>Queued</td><td><a href=\"https://mlworkspace.azure.ai/portal/subscriptions/757c4165-0823-49f7-9678-5a85fe5e17cc/resourceGroups/MLWSR/providers/Microsoft.MachineLearningServices/workspaces/demows/experiments/GEAR-EXP/runs/GEAR-EXP_1548933437886\" target=\"_blank\" rel=\"noopener\">Link to Azure Portal</a></td><td><a href=\"https://docs.microsoft.com/en-us/python/api/azureml-core/azureml.core.script_run.ScriptRun?view=azure-ml-py\" target=\"_blank\" rel=\"noopener\">Link to Documentation</a></td></tr></table>"
      ],
      "text/plain": [
       "Run(Experiment: GEAR-EXP,\n",
       "Id: GEAR-EXP_1548933437886,\n",
       "Type: azureml.scriptrun,\n",
       "Status: Queued)"
      ]
     },
     "execution_count": 26,
     "metadata": {},
     "output_type": "execute_result"
    }
   ],
   "source": [
    "run = exp.submit(config=est) \n",
    "run"
   ]
  },
  {
   "cell_type": "code",
   "execution_count": 27,
   "metadata": {},
   "outputs": [],
   "source": [
    "from azureml.widgets import RunDetails "
   ]
  },
  {
   "cell_type": "code",
   "execution_count": 28,
   "metadata": {},
   "outputs": [
    {
     "data": {
      "application/vnd.jupyter.widget-view+json": {
       "model_id": "57403f4564a84e31afd435fe804e9b7c",
       "version_major": 2,
       "version_minor": 0
      },
      "text/plain": [
       "_UserRunWidget(widget_settings={'childWidgetDisplay': 'popup', 'send_telemetry': True, 'log_level': 'INFO', 's…"
      ]
     },
     "metadata": {},
     "output_type": "display_data"
    }
   ],
   "source": [
    "RunDetails(run).show()"
   ]
  },
  {
   "cell_type": "code",
   "execution_count": 29,
   "metadata": {},
   "outputs": [
    {
     "name": "stdout",
     "output_type": "stream",
     "text": [
      "{'Test loss': 0.35806963869103803, 'Test accuracy': 0.9295774656282344}\n"
     ]
    }
   ],
   "source": [
    "run.wait_for_completion(show_output=False)\n",
    "\n",
    "# now there is a trained model on the remote cluster\n",
    "print(run.get_metrics())\n"
   ]
  },
  {
   "cell_type": "markdown",
   "metadata": {},
   "source": [
    "Register the model to AML model management env\n"
   ]
  },
  {
   "cell_type": "code",
   "execution_count": 30,
   "metadata": {},
   "outputs": [],
   "source": [
    "# register the model in the workspace \n",
    "model = run.register_model (\n",
    "                             model_name='keras_gear',\n",
    "                             model_path='outputs/Gear_Keras.model')\n"
   ]
  },
  {
   "cell_type": "markdown",
   "metadata": {},
   "source": [
    "Create Scoring file"
   ]
  },
  {
   "cell_type": "code",
   "execution_count": 31,
   "metadata": {},
   "outputs": [
    {
     "name": "stdout",
     "output_type": "stream",
     "text": [
      "Overwriting score.py\n"
     ]
    }
   ],
   "source": [
    "%%writefile score.py\n",
    "import json\n",
    "import numpy as np\n",
    "import os\n",
    "import keras\n",
    "\n",
    "from azureml.core.model import Model\n",
    "\n",
    "def init():\n",
    "    global model\n",
    "    # retrieve the path to the model file using the model name\n",
    "    model_path = Model.get_model_path('keras_gear')\n",
    "    model = keras.models.load_model(model_path)\n",
    "\n",
    "def run(raw_data):\n",
    "    classes=np.array(['axes', 'boots', 'carabiners', 'crampons', 'gloves', 'hardshell_jackets', 'harnesses', 'helmets', 'insulated_jackets', 'pulleys', 'rope', 'tents'])\n",
    "    data = np.array(json.loads(raw_data)['data']).reshape(1,128, 128,3)\n",
    "    # make prediction\n",
    "    y_hat = model.predict(data)\n",
    "    y_bool= np.array(y_hat,dtype=bool)\n",
    "    y_class = classes[y_bool[0]]\n",
    "    return json.dumps(y_class.tolist())"
   ]
  },
  {
   "cell_type": "markdown",
   "metadata": {},
   "source": [
    "Create Dependencies"
   ]
  },
  {
   "cell_type": "code",
   "execution_count": 32,
   "metadata": {},
   "outputs": [],
   "source": [
    "from azureml.core.conda_dependencies import CondaDependencies \n",
    "\n",
    "myenv = CondaDependencies() \n",
    "myenv.add_conda_package(\"keras\") \n",
    "\n",
    "with open(\"myenv.yml\",\"w\") as f: \n",
    "    f.write(myenv.serialize_to_string())\n"
   ]
  },
  {
   "cell_type": "markdown",
   "metadata": {},
   "source": [
    "Create Configuration for the Web service which willb e deployed on Azure Container Instance (Aci)"
   ]
  },
  {
   "cell_type": "code",
   "execution_count": 33,
   "metadata": {},
   "outputs": [],
   "source": [
    "from azureml.core.webservice import AciWebservice \n",
    "\n",
    "aciconfig = AciWebservice.deploy_configuration(cpu_cores=1, memory_gb=1, \n",
    "                                   tags={\"data\": \"Gear\", \"method\" : \"Keras\"},\n",
    "                                   description='Predict Gear Images with CNN')\n"
   ]
  },
  {
   "cell_type": "markdown",
   "metadata": {},
   "source": [
    "Create deployable image,  Aci instance and deploy the webservice"
   ]
  },
  {
   "cell_type": "code",
   "execution_count": 34,
   "metadata": {},
   "outputs": [
    {
     "name": "stdout",
     "output_type": "stream",
     "text": [
      "Wall time: 1 ms\n"
     ]
    }
   ],
   "source": [
    "%%time \n",
    "from azureml.core.webservice import Webservice \n",
    "from azureml.core.image import ContainerImage \n",
    "\n",
    "# configure the image \n",
    "image_config = ContainerImage.image_configuration(\n",
    "                    execution_script =\"score.py\", \n",
    "                    runtime =\"python\", \n",
    "                    conda_file =\"myenv.yml\") "
   ]
  },
  {
   "cell_type": "code",
   "execution_count": 35,
   "metadata": {},
   "outputs": [
    {
     "name": "stdout",
     "output_type": "stream",
     "text": [
      "Creating image\n",
      "Image creation operation finished for image keras-gear-svc:1, operation \"Succeeded\"\n",
      "Creating service\n",
      "Running..........................\n",
      "SucceededACI service creation operation finished, operation \"Succeeded\"\n",
      "Wall time: 8min\n"
     ]
    }
   ],
   "source": [
    "%%time \n",
    "service = Webservice.deploy_from_model(workspace=ws, name='keras-gear-svc', \n",
    "                      deployment_config=aciconfig, models=[model],\n",
    "                      image_config=image_config) \n",
    "\n",
    "\n",
    "service.wait_for_deployment(show_output=True)"
   ]
  },
  {
   "cell_type": "markdown",
   "metadata": {},
   "source": [
    "How to get the scoring uri:"
   ]
  },
  {
   "cell_type": "code",
   "execution_count": 36,
   "metadata": {},
   "outputs": [
    {
     "data": {
      "text/plain": [
       "'http://52.157.227.136:80/score'"
      ]
     },
     "execution_count": 36,
     "metadata": {},
     "output_type": "execute_result"
    }
   ],
   "source": [
    "service.scoring_uri"
   ]
  },
  {
   "cell_type": "code",
   "execution_count": 37,
   "metadata": {},
   "outputs": [
    {
     "name": "stdout",
     "output_type": "stream",
     "text": [
      "20\n"
     ]
    }
   ],
   "source": [
    "import random\n",
    "test_index= random.randint(0, num_items-1)\n",
    "print(test_index)"
   ]
  },
  {
   "cell_type": "code",
   "execution_count": 38,
   "metadata": {},
   "outputs": [
    {
     "data": {
      "text/plain": [
       "<matplotlib.image.AxesImage at 0x24c52d54898>"
      ]
     },
     "execution_count": 38,
     "metadata": {},
     "output_type": "execute_result"
    },
    {
     "data": {
      "image/png": "[encoded data removed]",
      "text/plain": [
       "<Figure size 432x288 with 1 Axes>"
      ]
     },
     "metadata": {
      "needs_background": "light"
     },
     "output_type": "display_data"
    }
   ],
   "source": [
    "plt.imshow(imagesTestX[test_index])"
   ]
  },
  {
   "cell_type": "code",
   "execution_count": 39,
   "metadata": {},
   "outputs": [
    {
     "name": "stdout",
     "output_type": "stream",
     "text": [
      "carabiners\n"
     ]
    }
   ],
   "source": [
    "print(imagesTestY[test_index])"
   ]
  },
  {
   "cell_type": "markdown",
   "metadata": {},
   "source": [
    "Test the service with single rest call"
   ]
  },
  {
   "cell_type": "code",
   "execution_count": 40,
   "metadata": {},
   "outputs": [
    {
     "name": "stdout",
     "output_type": "stream",
     "text": [
      "prediction: \"[\\\"carabiners\\\"]\"\n",
      "<Response [200]>\n"
     ]
    }
   ],
   "source": [
    "import requests\n",
    "import json\n",
    "\n",
    "# send a random row from the test set to score\n",
    "input_data = \"{\\\"data\\\": [\" + str(list(imagesTestX[test_index].flatten())) + \"]}\"\n",
    "\n",
    "headers = {'Content-Type':'application/json'}\n",
    "\n",
    "# for AKS deployment you'd need to the service key in the header as well\n",
    "# api_key = service.get_key()\n",
    "# headers = {'Content-Type':'application/json',  'Authorization':('Bearer '+ api_key)} \n",
    "\n",
    "resp = requests.post(service.scoring_uri, input_data, headers=headers)\n",
    "\n",
    "print(\"prediction:\", resp.text)\n",
    "print(resp)"
   ]
  }
 ],
 "metadata": {
  "kernelspec": {
   "display_name": "Python 3",
   "language": "python",
   "name": "python3"
  },
  "language_info": {
   "codemirror_mode": {
    "name": "ipython",
    "version": 3
   },
   "file_extension": ".py",
   "mimetype": "text/x-python",
   "name": "python",
   "nbconvert_exporter": "python",
   "pygments_lexer": "ipython3",
   "version": "3.6.6"
  }
 },
 "nbformat": 4,
 "nbformat_minor": 2
}
